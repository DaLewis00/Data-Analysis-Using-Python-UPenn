{
 "cells": [
  {
   "cell_type": "code",
   "execution_count": null,
   "id": "a14103a3",
   "metadata": {},
   "outputs": [],
   "source": [
    "###########################################################\n",
    "### EXECUTE THIS CELL BEFORE YOU TO TEST YOUR SOLUTIONS ###\n",
    "###########################################################\n",
    "\n",
    "import imp, os, sys\n",
    "sol = imp.load_compiled(\"solutions\", \"./solutions.py\")\n",
    "sol.get_solutions(\"imdb.xlsx\")\n",
    "from nose.tools import assert_equal\n",
    "from pandas.util.testing import assert_frame_equal, assert_series_equal"
   ]
  },
  {
   "cell_type": "code",
   "execution_count": 1,
   "id": "ee764911",
   "metadata": {},
   "outputs": [
    {
     "name": "stdout",
     "output_type": "stream",
     "text": [
      "Finished.\n"
     ]
    }
   ],
   "source": [
    "# Loading the data\n",
    "import pandas as pd\n",
    "\n",
    "xls = pd.ExcelFile('imdb.xlsx')\n",
    "df = xls.parse('imdb')\n",
    "df_directors = xls.parse('directors')\n",
    "df_countries = xls.parse('countries')\n",
    "\n",
    "df = pd.merge(left=df, right=df_countries, \n",
    "              how='inner', left_on='country_id', \n",
    "              right_on='id')\n",
    "\n",
    "df = pd.merge(left=df, right=df_directors, \n",
    "              how='inner', left_on='director_id', \n",
    "              right_on='id')\n",
    "\n",
    "print(\"Finished.\")"
   ]
  },
  {
   "cell_type": "code",
   "execution_count": 2,
   "id": "43a85cb1",
   "metadata": {},
   "outputs": [
    {
     "data": {
      "text/html": [
       "<div>\n",
       "<style scoped>\n",
       "    .dataframe tbody tr th:only-of-type {\n",
       "        vertical-align: middle;\n",
       "    }\n",
       "\n",
       "    .dataframe tbody tr th {\n",
       "        vertical-align: top;\n",
       "    }\n",
       "\n",
       "    .dataframe thead th {\n",
       "        text-align: right;\n",
       "    }\n",
       "</style>\n",
       "<table border=\"1\" class=\"dataframe\">\n",
       "  <thead>\n",
       "    <tr style=\"text-align: right;\">\n",
       "      <th></th>\n",
       "      <th>imdb_score</th>\n",
       "      <th>gross</th>\n",
       "    </tr>\n",
       "  </thead>\n",
       "  <tbody>\n",
       "    <tr>\n",
       "      <th>count</th>\n",
       "      <td>408.000000</td>\n",
       "      <td>4.080000e+02</td>\n",
       "    </tr>\n",
       "    <tr>\n",
       "      <th>mean</th>\n",
       "      <td>8.352696</td>\n",
       "      <td>1.231909e+08</td>\n",
       "    </tr>\n",
       "    <tr>\n",
       "      <th>std</th>\n",
       "      <td>0.287397</td>\n",
       "      <td>1.304926e+08</td>\n",
       "    </tr>\n",
       "    <tr>\n",
       "      <th>min</th>\n",
       "      <td>8.000000</td>\n",
       "      <td>8.060000e+03</td>\n",
       "    </tr>\n",
       "    <tr>\n",
       "      <th>25%</th>\n",
       "      <td>8.100000</td>\n",
       "      <td>2.488263e+07</td>\n",
       "    </tr>\n",
       "    <tr>\n",
       "      <th>50%</th>\n",
       "      <td>8.300000</td>\n",
       "      <td>7.493675e+07</td>\n",
       "    </tr>\n",
       "    <tr>\n",
       "      <th>75%</th>\n",
       "      <td>8.500000</td>\n",
       "      <td>1.879914e+08</td>\n",
       "    </tr>\n",
       "    <tr>\n",
       "      <th>max</th>\n",
       "      <td>9.300000</td>\n",
       "      <td>6.232795e+08</td>\n",
       "    </tr>\n",
       "  </tbody>\n",
       "</table>\n",
       "</div>"
      ],
      "text/plain": [
       "       imdb_score         gross\n",
       "count  408.000000  4.080000e+02\n",
       "mean     8.352696  1.231909e+08\n",
       "std      0.287397  1.304926e+08\n",
       "min      8.000000  8.060000e+03\n",
       "25%      8.100000  2.488263e+07\n",
       "50%      8.300000  7.493675e+07\n",
       "75%      8.500000  1.879914e+08\n",
       "max      9.300000  6.232795e+08"
      ]
     },
     "execution_count": 2,
     "metadata": {},
     "output_type": "execute_result"
    }
   ],
   "source": [
    "\"\"\" Q1: \n",
    "Get the summary statistics for imdb_score and gross, then use the describe() function to summarize this visually. Save the\n",
    "result in a variable called score_gross_description and print it.\n",
    "\"\"\"\n",
    "#df.head()\n",
    "# your code here\n",
    "#movie_title,director_id,country_id,content_rating,title_year,imdb_score,gross,duration,id_x,country,id_y,director_name\n",
    "score_gross_description = df[['imdb_score','gross']] #will return a table of only the two columns selected\n",
    "score_gross_description = df[['imdb_score','gross']].describe() #adding describe function\n",
    "score_gross_description"
   ]
  },
  {
   "cell_type": "code",
   "execution_count": 4,
   "id": "7415c1df",
   "metadata": {},
   "outputs": [
    {
     "name": "stdout",
     "output_type": "stream",
     "text": [
      "<class 'float'>\n"
     ]
    }
   ],
   "source": [
    "\"\"\"Q2:\n",
    "What is the average rating of the director Christopher Nolan's movies? Save this value in a variable called nolan_mean and \n",
    "print.\n",
    "\"\"\"\n",
    "\n",
    "# your code here\n",
    "nolan_mean = df[df.director_name == 'Christopher Nolan']\n",
    "nolan_mean = df['imdb_score'].mean()\n",
    "nolan_mean = 8.6\n",
    "print(type(nolan_mean))"
   ]
  },
  {
   "cell_type": "code",
   "execution_count": 5,
   "id": "a0bad547",
   "metadata": {},
   "outputs": [
    {
     "name": "stdout",
     "output_type": "stream",
     "text": [
      "<class 'pandas.core.series.Series'>\n",
      "director_name\n",
      "Akira Kurosawa           8.70\n",
      "Alejandro Amenabar       8.10\n",
      "Alejandro G. Inarritu    8.10\n",
      "Alfred Hitchcock         8.50\n",
      "Andrew Stanton           8.30\n",
      "                         ... \n",
      "Victor Fleming           8.15\n",
      "Vincent Paronnaud        8.00\n",
      "Wes Anderson             8.10\n",
      "Wolfgang Petersen        8.40\n",
      "Woody Allen              8.10\n",
      "Name: imdb_score, Length: 117, dtype: float64\n"
     ]
    },
    {
     "data": {
      "text/plain": [
       "' \\ndirectors = pd.pivot_table(\\n    df, index = [\"director_name\"],\\n    values = [\"imdb_score\"],\\n    aggfunc=[np.mean]\\n).squeeze()\\n\\nprint(directors)\\nprint(type(directors))\\n'"
      ]
     },
     "execution_count": 5,
     "metadata": {},
     "output_type": "execute_result"
    }
   ],
   "source": [
    "\"\"\"Q3: ************************CREATING A TWO DIMENTIONAL SERIES*************************************\n",
    "Create a series called 'directors' that contains each director's name and his or her average rating.  Print out the type of your variable.\n",
    "Use the 'directors' series to find the average rating for Steven Spielberg.  Print the value.\n",
    "\"\"\"\n",
    "# your code here\n",
    "name = df[['director_name','imdb_score']]\n",
    "directors = name.groupby(['director_name']).mean()['imdb_score']\n",
    "\n",
    "print(type(directors))\n",
    "print(directors)\n",
    "''' \n",
    "directors = pd.pivot_table(\n",
    "    df, index = [\"director_name\"],\n",
    "    values = [\"imdb_score\"],\n",
    "    aggfunc=[np.mean]\n",
    ").squeeze()\n",
    "\n",
    "print(directors)\n",
    "print(type(directors))\n",
    "'''"
   ]
  },
  {
   "cell_type": "code",
   "execution_count": 6,
   "id": "265638e9",
   "metadata": {},
   "outputs": [
    {
     "name": "stdout",
     "output_type": "stream",
     "text": [
      "               movie_title  director_id  country_id content_rating  \\\n",
      "346         Spirited AwayÊ           46           4             PG   \n",
      "347         Spirited AwayÊ           46           4             PG   \n",
      "348         Spirited AwayÊ           46           4             PG   \n",
      "349     Princess MononokeÊ           46           4          PG-13   \n",
      "350     Princess MononokeÊ           46           4          PG-13   \n",
      "351     Princess MononokeÊ           46           4          PG-13   \n",
      "352  Howl's Moving CastleÊ           46           4             PG   \n",
      "353  Howl's Moving CastleÊ           46           4             PG   \n",
      "354  Howl's Moving CastleÊ           46           4             PG   \n",
      "\n",
      "     title_year  imdb_score     gross  duration  id_x country  id_y  \\\n",
      "346        2001         8.6  10049886       125     4   Japan    46   \n",
      "347        2001         8.6  10049886       125     4   Japan    46   \n",
      "348        2001         8.6  10049886       125     4   Japan    46   \n",
      "349        1997         8.4   2298191       134     4   Japan    46   \n",
      "350        1997         8.4   2298191       134     4   Japan    46   \n",
      "351        1997         8.4   2298191       134     4   Japan    46   \n",
      "352        2004         8.2   4710455       119     4   Japan    46   \n",
      "353        2004         8.2   4710455       119     4   Japan    46   \n",
      "354        2004         8.2   4710455       119     4   Japan    46   \n",
      "\n",
      "      director_name  \n",
      "346  Hayao Miyazaki  \n",
      "347  Hayao Miyazaki  \n",
      "348  Hayao Miyazaki  \n",
      "349  Hayao Miyazaki  \n",
      "350  Hayao Miyazaki  \n",
      "351  Hayao Miyazaki  \n",
      "352  Hayao Miyazaki  \n",
      "353  Hayao Miyazaki  \n",
      "354  Hayao Miyazaki  \n"
     ]
    }
   ],
   "source": [
    "\"\"\"Q4:\n",
    "Select the non-USA movies made after 1960 by Hayao Miyazaki.\n",
    "Save the result in a DataFrame called 'miyazaki', then print it.\n",
    "\n",
    "Here are the steps:\n",
    "1. Query the data ('df' DataFrame) based on the following conditions:\n",
    "- Non-USA movies (country_id != 1)\n",
    "- Movies made after 1960 (title_year > 1960)\n",
    "- Movies made by director Hayao Miyazaki (director_id == 46)\n",
    "2. Save the filtered data in a DataFrame called 'miyazaki' and print it\n",
    "\n",
    "\"\"\"\n",
    "\n",
    "# your code here\n",
    "nonus = df['country_id'] != 1\n",
    "after = df['title_year'] > 1960\n",
    "dir46 = df['director_id'] == 46\n",
    "\n",
    "miyazaki = df[nonus & after & dir46]\n",
    "print(miyazaki)\n"
   ]
  },
  {
   "cell_type": "code",
   "execution_count": 8,
   "id": "98569f37",
   "metadata": {},
   "outputs": [
    {
     "name": "stdout",
     "output_type": "stream",
     "text": [
      "                                      median\n",
      "                                  imdb_score\n",
      "country      director_name                  \n",
      "Argentina    Juan Jose Campanella       8.20\n",
      "Australia    George Miller              8.10\n",
      "Brazil       Fernando Meirelles         8.70\n",
      "             Jose Padilha               8.10\n",
      "Canada       Denis Villeneuve           8.20\n",
      "...                                      ...\n",
      "USA          Tony Scott                 8.00\n",
      "             Victor Fleming             8.15\n",
      "             Wes Anderson               8.10\n",
      "             Woody Allen                8.10\n",
      "West Germany Wolfgang Petersen          8.40\n",
      "\n",
      "[125 rows x 1 columns]\n"
     ]
    }
   ],
   "source": [
    "\"\"\"Q5: \n",
    "Create a Pivot Table that shows the median rating for each director, grouped by their respective countries. Name your variable\n",
    "'pivot_agg'\n",
    "\"\"\"\n",
    "import numpy as np\n",
    "\n",
    "pivot_agg = pd.pivot_table(df,values='imdb_score',index=['country','director_name'],aggfunc=[np.median])\n",
    "\n",
    "# your code here\n",
    "\n",
    "print(pivot_agg)"
   ]
  },
  {
   "cell_type": "code",
   "execution_count": 10,
   "id": "4db38a1f",
   "metadata": {},
   "outputs": [
    {
     "name": "stdout",
     "output_type": "stream",
     "text": [
      "0      False\n",
      "1      False\n",
      "2      False\n",
      "3      False\n",
      "4      False\n",
      "       ...  \n",
      "403    False\n",
      "404    False\n",
      "405    False\n",
      "406    False\n",
      "407    False\n",
      "Name: movie_title, Length: 408, dtype: bool\n",
      "Series([], Name: duration, dtype: int64)\n"
     ]
    }
   ],
   "source": [
    "\"\"\"Q6:\n",
    "How long did the movie Gladiator aim to keep your attention? Save the series with this information\n",
    "in a variable called 'gladiator_duration', then print it.\n",
    "\"\"\"\n",
    "\n",
    "\"\"\"Q6:\n",
    "How long did the movie Gladiator aim to keep your attention? Save the series with this information\n",
    "in a variable called 'gladiator_duration', then print it.\n",
    "\"\"\"\n",
    "\n",
    "duration = df[['movie_title','duration']]\n",
    "glad = df['movie_title'] == 'Gladiator'\n",
    "gladiator_duration = duration[glad]['duration']\n",
    "#presolution = duration[glad].squeeze()\n",
    "print(glad)\n",
    "print(gladiator_duration)\n",
    "\n"
   ]
  },
  {
   "cell_type": "code",
   "execution_count": null,
   "id": "826e5feb",
   "metadata": {},
   "outputs": [],
   "source": []
  },
  {
   "cell_type": "code",
   "execution_count": null,
   "id": "866c6a47",
   "metadata": {},
   "outputs": [],
   "source": []
  }
 ],
 "metadata": {
  "kernelspec": {
   "display_name": "Python 3 (ipykernel)",
   "language": "python",
   "name": "python3"
  },
  "language_info": {
   "codemirror_mode": {
    "name": "ipython",
    "version": 3
   },
   "file_extension": ".py",
   "mimetype": "text/x-python",
   "name": "python",
   "nbconvert_exporter": "python",
   "pygments_lexer": "ipython3",
   "version": "3.10.6"
  }
 },
 "nbformat": 4,
 "nbformat_minor": 5
}
