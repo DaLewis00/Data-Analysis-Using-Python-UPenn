{
 "cells": [
  {
   "cell_type": "code",
   "execution_count": 3,
   "id": "a605fac4",
   "metadata": {},
   "outputs": [
    {
     "name": "stdout",
     "output_type": "stream",
     "text": [
      "<class 'csv.DictReader'>\n",
      "['Number', 'Year', 'Album', 'Artist', 'Genre', 'Subgenre']\n"
     ]
    }
   ],
   "source": [
    "'''\n",
    "Analyzing the 500 Greatest Albums of All Time from a csv file.\n",
    "'''\n",
    "\n",
    "import csv\n",
    "\n",
    "with open('albumlist.csv','r') as csvfile: #with/closes file automatically after use, 'r' = read only\n",
    "    reader = csv.DictReader(csvfile) #maps csv file onto python dictionary\n",
    "    print(type(reader))\n",
    "    print(reader.fieldnames)\n"
   ]
  },
  {
   "cell_type": "code",
   "execution_count": null,
   "id": "b74d8370",
   "metadata": {},
   "outputs": [],
   "source": [
    "with open('albumlist.csv','r') as csvfile:\n",
    "    reader = csv.DictReader(csvfile)\n",
    "    \n",
    "    for row in reader:\n",
    "        print(row)"
   ]
  },
  {
   "cell_type": "code",
   "execution_count": null,
   "id": "2d5bee02",
   "metadata": {},
   "outputs": [],
   "source": [
    "#Printing first 100 rows\n",
    "\n",
    "with open('albumlist.csv','r') as csvfile:\n",
    "    reader = csv.DictReader(csvfile)\n",
    "    \n",
    "    rows = 101\n",
    "    for row in reader:\n",
    "        if(rows > 0):\n",
    "            print(row)\n",
    "        else:\n",
    "            break"
   ]
  },
  {
   "cell_type": "code",
   "execution_count": 6,
   "id": "84008273",
   "metadata": {},
   "outputs": [
    {
     "name": "stdout",
     "output_type": "stream",
     "text": [
      "Number of albums 500\n"
     ]
    }
   ],
   "source": [
    "#Casting into a list\n",
    "\n",
    "with open('albumlist.csv','r') as csvfile:\n",
    "    reader = csv.DictReader(csvfile)\n",
    "    \n",
    "    albums = [] #creating empty list\n",
    "    \n",
    "    #appends each to our list\n",
    "    for row in reader:\n",
    "        albums.append(row)\n",
    "        \n",
    "    print('Number of albums',len(albums))\n",
    "    \n",
    "#Since our album list now has our csv file data we use it instead."
   ]
  },
  {
   "cell_type": "code",
   "execution_count": 8,
   "id": "7306442a",
   "metadata": {},
   "outputs": [
    {
     "name": "stdout",
     "output_type": "stream",
     "text": [
      "Number of albums in 1974: 14\n"
     ]
    }
   ],
   "source": [
    "#List Comprehension: in this excercise we'll crate a new list with only those albums from 1974 using our album list\n",
    "\n",
    "#Albums in 1974\n",
    "\n",
    "albums_1974 = [row for row in albums if row['Year']=='1974']\n",
    "print('Number of albums in 1974:',len(albums_1974))"
   ]
  },
  {
   "cell_type": "code",
   "execution_count": null,
   "id": "685f8c8a",
   "metadata": {},
   "outputs": [],
   "source": [
    "#Printing album title and artist\n",
    "\n",
    "for album in albums_1974:\n",
    "    print(album[\"Album\"],\"by\",album[\"Artist\"])\n",
    "    "
   ]
  },
  {
   "cell_type": "code",
   "execution_count": null,
   "id": "95f2bc54",
   "metadata": {},
   "outputs": [],
   "source": [
    "#Only 10 albums of 1974 \n",
    "\n",
    "print([row for row in albums if album[\"Year\"] == \"1974\"][:10])"
   ]
  },
  {
   "cell_type": "code",
   "execution_count": null,
   "id": "b65257bb",
   "metadata": {},
   "outputs": [],
   "source": [
    "#Album artist by genre\n",
    "\n",
    "rock_albums = []\n",
    "\n",
    "for row in albums:\n",
    "    if(row[\"Genre\"] == \"Rock\" and (\"Pop Rock\" in row[\"Subgenre\"] or \"Fusion\" in row[\"Subgenre\"])):\n",
    "        rock_albums.append(row)\n",
    "    \n",
    "print('Rock albums:',len(rock_albums))   \n",
    "for album in rock_albums:\n",
    "    print(album[\"Album\"],album[\"Artist\"],album[\"Genre\"],album[\"Subgenre\"])"
   ]
  },
  {
   "cell_type": "code",
   "execution_count": null,
   "id": "f9073a75",
   "metadata": {},
   "outputs": [],
   "source": [
    "#Earliest release years\n",
    "#Get list of release year and cast as integer\n",
    "#Somewhere in date a year is spelled out thus will need to account for this, e.g. ignore it\n",
    "\n",
    "def is_valid_year(string): #function to detect non-ints\n",
    "    try:\n",
    "        year = int(string) #try casting string to int\n",
    "    except ValueError:\n",
    "        return False\n",
    "    else:\n",
    "        return year > 1400\n",
    "    \n",
    "\n",
    "release_years = []\n",
    "\n",
    "for row in albums:\n",
    "    if(is_valid_year(row[\"Year\"])):\n",
    "        release_years.append(int(row[\"Year\"]))\n",
    "        \n",
    "#single line solution: release_years = [int(row[\"Years\"]) for row in albums if(is_valid_year(row[\"Year\"])]\n",
    "\n",
    "print(release_years)"
   ]
  },
  {
   "cell_type": "code",
   "execution_count": 33,
   "id": "4051b5f0",
   "metadata": {},
   "outputs": [
    {
     "name": "stdout",
     "output_type": "stream",
     "text": [
      "1955\n"
     ]
    }
   ],
   "source": [
    "#Earliest release\n",
    "\n",
    "min_release_date = min(release_years)\n",
    "print(min_release_date)"
   ]
  },
  {
   "cell_type": "code",
   "execution_count": 34,
   "id": "cab4f2d7",
   "metadata": {},
   "outputs": [
    {
     "name": "stdout",
     "output_type": "stream",
     "text": [
      "8\n",
      "8\n"
     ]
    }
   ],
   "source": [
    "'''**********************Integrating Lambda Functions**************************'''\n",
    "#Lambda functions are one line functions easily integrated into code, e.g.\n",
    "\n",
    "def double(x):\n",
    "    return x*2\n",
    "\n",
    "print(double(4)) #returns 8\n",
    "\n",
    "#Using a lambda function\n",
    "\n",
    "doubled = lambda x: x*2 #given parameter x, return x*2\n",
    "\n",
    "print(doubled(4)) #also returns 8\n",
    "\n"
   ]
  },
  {
   "cell_type": "code",
   "execution_count": null,
   "id": "0a4d572d",
   "metadata": {},
   "outputs": [],
   "source": [
    "#lambda functions are useful as arguments of other functions, e.g. useful for sorting\n",
    "\n",
    "albums_sorted = sorted(albums,key = lambda x: x[\"Artist\"])\n",
    "print(albums_sorted)"
   ]
  },
  {
   "cell_type": "code",
   "execution_count": 40,
   "id": "7cc63d89",
   "metadata": {},
   "outputs": [
    {
     "name": "stdout",
     "output_type": "stream",
     "text": [
      "{'Number': '381', 'Year': '2011', 'Album': 'The Smile Sessions', 'Artist': 'The Beach Boys', 'Genre': 'Rock', 'Subgenre': 'Pop Rock, Psychedelic Rock'}\n",
      "The Smile Sessions The Beach Boys 2011\n"
     ]
    }
   ],
   "source": [
    "#What's the album, artist, and release year for the most recent album in the data? - use a lambda function\n",
    "\n",
    "#*****1 - extract albums with valid year ****\n",
    "\n",
    "valid_albums = []\n",
    "\n",
    "for row in albums:\n",
    "    if(is_valid_year(row[\"Year\"])):\n",
    "        valid_albums.append(row)\n",
    "        \n",
    "#One line soluction: valid_albums = [row for row in albums if(is_valid_year(row[\"Year\"]))]\n",
    "\n",
    "album_max = max(valid_albums, key = lambda x: x[\"Year\"])\n",
    "\n",
    "print(album_max)\n",
    "print(album_max[\"Album\"],album_max[\"Artist\"],album_max[\"Year\"])"
   ]
  }
 ],
 "metadata": {
  "kernelspec": {
   "display_name": "Python 3 (ipykernel)",
   "language": "python",
   "name": "python3"
  },
  "language_info": {
   "codemirror_mode": {
    "name": "ipython",
    "version": 3
   },
   "file_extension": ".py",
   "mimetype": "text/x-python",
   "name": "python",
   "nbconvert_exporter": "python",
   "pygments_lexer": "ipython3",
   "version": "3.10.6"
  }
 },
 "nbformat": 4,
 "nbformat_minor": 5
}
