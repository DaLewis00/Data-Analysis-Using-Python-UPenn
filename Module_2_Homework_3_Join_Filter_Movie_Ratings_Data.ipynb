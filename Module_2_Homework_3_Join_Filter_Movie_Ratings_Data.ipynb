{
 "cells": [
  {
   "cell_type": "code",
   "execution_count": null,
   "id": "2f90c8c2",
   "metadata": {},
   "outputs": [],
   "source": [
    "###########################################################\n",
    "### EXECUTE THIS CELL BEFORE YOU TO TEST YOUR SOLUTIONS ###\n",
    "###########################################################\n",
    "\n",
    "import imp, os, sys\n",
    "sol = imp.load_compiled(\"solutions\", \"./solutions.py\")\n",
    "sol.get_solutions(\"imdb.xlsx\")\n",
    "from nose.tools import assert_equal\n",
    "from pandas.util.testing import assert_frame_equal, assert_series_equal"
   ]
  },
  {
   "cell_type": "code",
   "execution_count": 1,
   "id": "bc21ae83",
   "metadata": {},
   "outputs": [
    {
     "name": "stdout",
     "output_type": "stream",
     "text": [
      "Index(['movie_title', 'director_id', 'country_id', 'content_rating',\n",
      "       'title_year', 'imdb_score', 'gross', 'duration'],\n",
      "      dtype='object')\n",
      "Index(['id', 'director_name'], dtype='object')\n",
      "Index(['id', 'country'], dtype='object')\n",
      "Data Loading Finished.\n"
     ]
    }
   ],
   "source": [
    "# Loading the data\n",
    "import pandas as pd\n",
    "\n",
    "xls = pd.ExcelFile('imdb.xlsx')\n",
    "df = xls.parse('imdb')\n",
    "df_directors = xls.parse('directors')\n",
    "df_countries = xls.parse('countries')\n",
    "\n",
    "print(df.columns)\n",
    "print(df_directors.columns)\n",
    "print(df_countries.columns)\n",
    "\n",
    "print(\"Data Loading Finished.\")"
   ]
  },
  {
   "cell_type": "code",
   "execution_count": 3,
   "id": "95b4e427",
   "metadata": {},
   "outputs": [
    {
     "data": {
      "text/plain": [
       "(408, 12)"
      ]
     },
     "execution_count": 3,
     "metadata": {},
     "output_type": "execute_result"
    }
   ],
   "source": [
    "\"\"\" Q1: \n",
    "Join three Dataframes: df, df_directors, and df_countries with an inner join.\n",
    "Store the joined DataFrames in df.\n",
    "\n",
    "Here are the steps:\n",
    "1. Merge df with df_countries and assign it df\n",
    "2. Merge df with df_directors and assign it to df again\n",
    "There might be errors if the merge is not in this order, so please be careful.\n",
    "\n",
    "\"\"\"\n",
    "\n",
    "# your code here\n",
    "df = pd.merge(left = df, right = df_countries, how = 'inner',left_on = 'country_id', right_on = 'id')\n",
    "\n",
    "df = pd.merge(left = df, right = df_directors, how = 'inner',left_on = 'director_id', right_on = 'id')\n",
    "\n",
    "# After the join, the resulting Dataframe should have 12 columns.\n",
    "df.shape"
   ]
  },
  {
   "cell_type": "code",
   "execution_count": 7,
   "id": "34c2ce6b",
   "metadata": {},
   "outputs": [
    {
     "name": "stdout",
     "output_type": "stream",
     "text": [
      "<class 'pandas.core.series.Series'>\n",
      "0    The Shawshank RedemptionÊ\n",
      "1    The Shawshank RedemptionÊ\n",
      "2              The Green MileÊ\n",
      "3              The Green MileÊ\n",
      "4               The GodfatherÊ\n",
      "5               The GodfatherÊ\n",
      "6               The GodfatherÊ\n",
      "7      The Godfather: Part IIÊ\n",
      "8      The Godfather: Part IIÊ\n",
      "9      The Godfather: Part IIÊ\n",
      "Name: movie_title, dtype: object\n"
     ]
    }
   ],
   "source": [
    "\"\"\" Q2: \n",
    "Save the first ten rows of movie titles in a variable called first10, then print it\n",
    "\"\"\"\n",
    "'''\n",
    "Index(['movie_title', 'director_id', 'country_id', 'content_rating',\n",
    "       'title_year', 'imdb_score', 'gross', 'duration', 'id_x', 'country_x',\n",
    "       'id_y', 'director_name_x', 'id_x', 'country_y', 'id_y',\n",
    "       'director_name_y'],\n",
    "      dtype='object')\n",
    "'''\n",
    "\n",
    "\n",
    "first10 = df['movie_title'].head(10)\n",
    "print(type(first10))\n",
    "# your code here\n",
    "print(first10)\n"
   ]
  },
  {
   "cell_type": "code",
   "execution_count": 12,
   "id": "674ca625",
   "metadata": {},
   "outputs": [],
   "source": [
    "\"\"\" Q3: \n",
    "There's an extra character at the end of each movie title. \n",
    "Remove it from the data using str.replace.\n",
    "And print the first ten rows of movie titles again. \n",
    "\"\"\"\n",
    "\n",
    "# your code here\n",
    "df['movie_title'] = df['movie_title'].str.replace('Ê','')\n",
    "\n"
   ]
  },
  {
   "cell_type": "code",
   "execution_count": 23,
   "id": "30f21826",
   "metadata": {},
   "outputs": [
    {
     "name": "stdout",
     "output_type": "stream",
     "text": [
      "Christopher Nolan    49\n",
      "Name: director_name, dtype: int64\n",
      "<class 'pandas.core.series.Series'>\n"
     ]
    }
   ],
   "source": [
    "\"\"\" Q4:\n",
    "Who is the director with the most movies? First get the number of movies per \"director_name\", then save the director's name\n",
    "and count as a series of length 1 called \"director_with_most\"\n",
    "\"\"\"\n",
    "\n",
    "# your code here\n",
    "director_with_most = df['director_name'].value_counts().head(1)\n",
    "print(director_with_most)\n",
    "print(type(director_with_most))\n"
   ]
  },
  {
   "cell_type": "code",
   "execution_count": 14,
   "id": "ddd4be3f",
   "metadata": {},
   "outputs": [
    {
     "name": "stdout",
     "output_type": "stream",
     "text": [
      "              movie_title  imdb_score\n",
      "13        The Dark Knight         9.0\n",
      "14        The Dark Knight         9.0\n",
      "15        The Dark Knight         9.0\n",
      "16        The Dark Knight         9.0\n",
      "17        The Dark Knight         9.0\n",
      "18        The Dark Knight         9.0\n",
      "19        The Dark Knight         9.0\n",
      "20              Inception         8.8\n",
      "21              Inception         8.8\n",
      "22              Inception         8.8\n",
      "23              Inception         8.8\n",
      "24              Inception         8.8\n",
      "25              Inception         8.8\n",
      "26              Inception         8.8\n",
      "27           Interstellar         8.6\n",
      "28           Interstellar         8.6\n",
      "29           Interstellar         8.6\n",
      "30           Interstellar         8.6\n",
      "31           Interstellar         8.6\n",
      "32           Interstellar         8.6\n",
      "33           Interstellar         8.6\n",
      "34                Memento         8.5\n",
      "35                Memento         8.5\n",
      "36                Memento         8.5\n",
      "37                Memento         8.5\n",
      "38                Memento         8.5\n",
      "39                Memento         8.5\n",
      "40                Memento         8.5\n",
      "41           The Prestige         8.5\n",
      "42           The Prestige         8.5\n",
      "43           The Prestige         8.5\n",
      "44           The Prestige         8.5\n",
      "45           The Prestige         8.5\n",
      "46           The Prestige         8.5\n",
      "47           The Prestige         8.5\n",
      "48  The Dark Knight Rises         8.5\n",
      "49  The Dark Knight Rises         8.5\n",
      "50  The Dark Knight Rises         8.5\n",
      "51  The Dark Knight Rises         8.5\n",
      "52  The Dark Knight Rises         8.5\n",
      "53  The Dark Knight Rises         8.5\n",
      "54  The Dark Knight Rises         8.5\n",
      "55          Batman Begins         8.3\n",
      "56          Batman Begins         8.3\n",
      "57          Batman Begins         8.3\n",
      "58          Batman Begins         8.3\n",
      "59          Batman Begins         8.3\n",
      "60          Batman Begins         8.3\n",
      "61          Batman Begins         8.3\n"
     ]
    }
   ],
   "source": [
    "\"\"\"Q5:\n",
    "Save all of this director's movies and their ratings in a variable called all_movies_ratings, then print this variable.\n",
    "(The director with the most movies you got from the last question.)\n",
    "\"\"\"\n",
    "\n",
    "# your code here\n",
    "\n",
    "director = df['director_name'] == 'Christopher Nolan'\n",
    "new_df = df[director]\n",
    "all_movies_ratings = new_df[['movie_title', 'imdb_score']]\n",
    "print(all_movies_ratings)\n"
   ]
  },
  {
   "cell_type": "code",
   "execution_count": 22,
   "id": "34f25380",
   "metadata": {},
   "outputs": [
    {
     "name": "stdout",
     "output_type": "stream",
     "text": [
      "133    Fight Club\n",
      "Name: movie_title, dtype: object\n",
      "133    8.8\n",
      "Name: imdb_score, dtype: float64\n"
     ]
    }
   ],
   "source": [
    "\"\"\"Q6:\n",
    "Recommend a **random** movie that has a rating of over 8.3. \n",
    "Store the random recommendation in a variable called \"rand_goodmovie\".\n",
    "What is the title and imdb_score of your recommendation?\n",
    " \n",
    "Here are the steps:\n",
    "1. Query the data ('df' DataFrame) for movies with a rating over 8.3 (imdb_score > 8.3)\n",
    "2. Create a random integer index location to get a single movie recommendation\n",
    "3. Save the random movie recommendation in a DataFrame called 'rand_goodmovie'\n",
    "4. Save the title of the random movie recommendation in a variable \"random_title\" and print it\n",
    "5. Save the imdb_score of the random movie recommendation in a variable \"random_imdb_score\" and print it\n",
    "\n",
    "\"\"\"\n",
    "# Do not modify this part, it's needed for grading\n",
    "import random\n",
    "random.seed(0)\n",
    "\n",
    "# your code here\n",
    "rating = df['imdb_score'] > 8.3 #condition to be met\n",
    "eight_plus = df[rating]\n",
    "rand_int = random.randint(0,len(eight_plus)-1)\n",
    "rand_goodmovie = eight_plus[rand_int:rand_int+1]\n",
    "random_title = rand_goodmovie['movie_title']\n",
    "print(random_title)\n",
    "random_imdb_score = rand_goodmovie['imdb_score']\n",
    "print(random_imdb_score)\n",
    "\n"
   ]
  },
  {
   "cell_type": "code",
   "execution_count": null,
   "id": "a432e51b",
   "metadata": {},
   "outputs": [],
   "source": [
    "from nose.tools import assert_in\n",
    "assert_in(rand_goodmovie[[\"movie_title\", \"imdb_score\"]].values, sol.possible_goodmovies[[\"movie_title\", \"imdb_score\"]].values)\n",
    "assert_equal(random_title.iloc[0], rand_goodmovie[\"movie_title\"].iloc[0])\n",
    "assert_equal(random_imdb_score.iloc[0], rand_goodmovie[\"imdb_score\"].iloc[0])\n",
    "print(\"Success!\")\n"
   ]
  },
  {
   "cell_type": "code",
   "execution_count": null,
   "id": "b148e1fd",
   "metadata": {},
   "outputs": [],
   "source": []
  },
  {
   "cell_type": "code",
   "execution_count": null,
   "id": "a32b5c80",
   "metadata": {},
   "outputs": [],
   "source": []
  },
  {
   "cell_type": "code",
   "execution_count": null,
   "id": "4f9d672b",
   "metadata": {},
   "outputs": [],
   "source": []
  }
 ],
 "metadata": {
  "kernelspec": {
   "display_name": "Python 3 (ipykernel)",
   "language": "python",
   "name": "python3"
  },
  "language_info": {
   "codemirror_mode": {
    "name": "ipython",
    "version": 3
   },
   "file_extension": ".py",
   "mimetype": "text/x-python",
   "name": "python",
   "nbconvert_exporter": "python",
   "pygments_lexer": "ipython3",
   "version": "3.10.6"
  }
 },
 "nbformat": 4,
 "nbformat_minor": 5
}
